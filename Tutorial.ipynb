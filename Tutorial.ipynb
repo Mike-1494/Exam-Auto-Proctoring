{
 "cells": [
  {
   "cell_type": "code",
   "execution_count": 1,
   "metadata": {},
   "outputs": [
    {
     "name": "stdout",
     "output_type": "stream",
     "text": [
      "Thu Jun 29 10:21:26 2023       \n",
      "+---------------------------------------------------------------------------------------+\n",
      "| NVIDIA-SMI 535.98                 Driver Version: 535.98       CUDA Version: 12.2     |\n",
      "|-----------------------------------------+----------------------+----------------------+\n",
      "| GPU  Name                     TCC/WDDM  | Bus-Id        Disp.A | Volatile Uncorr. ECC |\n",
      "| Fan  Temp   Perf          Pwr:Usage/Cap |         Memory-Usage | GPU-Util  Compute M. |\n",
      "|                                         |                      |               MIG M. |\n",
      "|=========================================+======================+======================|\n",
      "|   0  NVIDIA GeForce RTX 3050 ...  WDDM  | 00000000:01:00.0 Off |                  N/A |\n",
      "| N/A   49C    P8               6W /  75W |    261MiB /  4096MiB |     33%      Default |\n",
      "|                                         |                      |                  N/A |\n",
      "+-----------------------------------------+----------------------+----------------------+\n",
      "                                                                                         \n",
      "+---------------------------------------------------------------------------------------+\n",
      "| Processes:                                                                            |\n",
      "|  GPU   GI   CI        PID   Type   Process name                            GPU Memory |\n",
      "|        ID   ID                                                             Usage      |\n",
      "|=======================================================================================|\n",
      "|    0   N/A  N/A      3836    C+G   ...al\\Discord\\app-1.0.9013\\Discord.exe    N/A      |\n",
      "|    0   N/A  N/A      9476    C+G   ...2txyewy\\StartMenuExperienceHost.exe    N/A      |\n",
      "|    0   N/A  N/A     10196    C+G   ...nt.CBS_cw5n1h2txyewy\\SearchHost.exe    N/A      |\n",
      "|    0   N/A  N/A     10384    C+G   ...tility\\HPSystemEventUtilityHost.exe    N/A      |\n",
      "|    0   N/A  N/A     12360    C+G   ...t.LockApp_cw5n1h2txyewy\\LockApp.exe    N/A      |\n",
      "|    0   N/A  N/A     13116    C+G   ...Programs\\Microsoft VS Code\\Code.exe    N/A      |\n",
      "|    0   N/A  N/A     14000    C+G   ...tudio-ui\\LightStudio-background.exe    N/A      |\n",
      "|    0   N/A  N/A     14580    C+G   ...CBS_cw5n1h2txyewy\\TextInputHost.exe    N/A      |\n",
      "|    0   N/A  N/A     15992    C+G   ...B\\system_tray\\lghub_system_tray.exe    N/A      |\n",
      "|    0   N/A  N/A     16068    C+G   C:\\Program Files\\LGHUB\\lghub.exe          N/A      |\n",
      "|    0   N/A  N/A     18772    C+G   ...23.0_x64__v10z8vjag6ke6\\HP.myHP.exe    N/A      |\n",
      "+---------------------------------------------------------------------------------------+\n"
     ]
    }
   ],
   "source": [
    "!nvidia-smi\n"
   ]
  },
  {
   "cell_type": "code",
   "execution_count": 2,
   "metadata": {},
   "outputs": [
    {
     "name": "stdout",
     "output_type": "stream",
     "text": [
      "Requirement already satisfied: ultralytics in c:\\users\\minhh\\appdata\\local\\programs\\python\\python310\\lib\\site-packages (8.0.118)\n",
      "Requirement already satisfied: matplotlib>=3.2.2 in c:\\users\\minhh\\appdata\\local\\programs\\python\\python310\\lib\\site-packages (from ultralytics) (3.7.1)\n",
      "Requirement already satisfied: opencv-python>=4.6.0 in c:\\users\\minhh\\appdata\\local\\programs\\python\\python310\\lib\\site-packages (from ultralytics) (4.7.0.72)\n",
      "Requirement already satisfied: Pillow>=7.1.2 in c:\\users\\minhh\\appdata\\local\\programs\\python\\python310\\lib\\site-packages (from ultralytics) (9.5.0)\n",
      "Requirement already satisfied: PyYAML>=5.3.1 in c:\\users\\minhh\\appdata\\local\\programs\\python\\python310\\lib\\site-packages (from ultralytics) (6.0)\n",
      "Requirement already satisfied: requests>=2.23.0 in c:\\users\\minhh\\appdata\\local\\programs\\python\\python310\\lib\\site-packages (from ultralytics) (2.28.2)\n",
      "Requirement already satisfied: scipy>=1.4.1 in c:\\users\\minhh\\appdata\\local\\programs\\python\\python310\\lib\\site-packages (from ultralytics) (1.10.1)\n",
      "Requirement already satisfied: torch>=1.7.0 in c:\\users\\minhh\\appdata\\local\\programs\\python\\python310\\lib\\site-packages (from ultralytics) (2.0.0)\n",
      "Requirement already satisfied: torchvision>=0.8.1 in c:\\users\\minhh\\appdata\\local\\programs\\python\\python310\\lib\\site-packages (from ultralytics) (0.15.1)\n",
      "Requirement already satisfied: tqdm>=4.64.0 in c:\\users\\minhh\\appdata\\local\\programs\\python\\python310\\lib\\site-packages (from ultralytics) (4.65.0)\n",
      "Requirement already satisfied: pandas>=1.1.4 in c:\\users\\minhh\\appdata\\local\\programs\\python\\python310\\lib\\site-packages (from ultralytics) (2.0.0)\n",
      "Requirement already satisfied: seaborn>=0.11.0 in c:\\users\\minhh\\appdata\\local\\programs\\python\\python310\\lib\\site-packages (from ultralytics) (0.12.2)\n",
      "Requirement already satisfied: psutil in c:\\users\\minhh\\appdata\\roaming\\python\\python310\\site-packages (from ultralytics) (5.9.5)\n",
      "Requirement already satisfied: contourpy>=1.0.1 in c:\\users\\minhh\\appdata\\local\\programs\\python\\python310\\lib\\site-packages (from matplotlib>=3.2.2->ultralytics) (1.0.7)\n",
      "Requirement already satisfied: cycler>=0.10 in c:\\users\\minhh\\appdata\\local\\programs\\python\\python310\\lib\\site-packages (from matplotlib>=3.2.2->ultralytics) (0.11.0)\n",
      "Requirement already satisfied: fonttools>=4.22.0 in c:\\users\\minhh\\appdata\\local\\programs\\python\\python310\\lib\\site-packages (from matplotlib>=3.2.2->ultralytics) (4.39.3)\n",
      "Requirement already satisfied: kiwisolver>=1.0.1 in c:\\users\\minhh\\appdata\\local\\programs\\python\\python310\\lib\\site-packages (from matplotlib>=3.2.2->ultralytics) (1.4.4)\n",
      "Requirement already satisfied: numpy>=1.20 in c:\\users\\minhh\\appdata\\local\\programs\\python\\python310\\lib\\site-packages (from matplotlib>=3.2.2->ultralytics) (1.23.5)\n",
      "Requirement already satisfied: packaging>=20.0 in c:\\users\\minhh\\appdata\\local\\programs\\python\\python310\\lib\\site-packages (from matplotlib>=3.2.2->ultralytics) (23.0)\n",
      "Requirement already satisfied: pyparsing>=2.3.1 in c:\\users\\minhh\\appdata\\local\\programs\\python\\python310\\lib\\site-packages (from matplotlib>=3.2.2->ultralytics) (3.0.9)\n",
      "Requirement already satisfied: python-dateutil>=2.7 in c:\\users\\minhh\\appdata\\local\\programs\\python\\python310\\lib\\site-packages (from matplotlib>=3.2.2->ultralytics) (2.8.2)\n",
      "Requirement already satisfied: pytz>=2020.1 in c:\\users\\minhh\\appdata\\local\\programs\\python\\python310\\lib\\site-packages (from pandas>=1.1.4->ultralytics) (2023.3)\n",
      "Requirement already satisfied: tzdata>=2022.1 in c:\\users\\minhh\\appdata\\local\\programs\\python\\python310\\lib\\site-packages (from pandas>=1.1.4->ultralytics) (2023.3)\n",
      "Requirement already satisfied: charset-normalizer<4,>=2 in c:\\users\\minhh\\appdata\\local\\programs\\python\\python310\\lib\\site-packages (from requests>=2.23.0->ultralytics) (3.1.0)\n",
      "Requirement already satisfied: idna<4,>=2.5 in c:\\users\\minhh\\appdata\\local\\programs\\python\\python310\\lib\\site-packages (from requests>=2.23.0->ultralytics) (3.4)\n",
      "Requirement already satisfied: urllib3<1.27,>=1.21.1 in c:\\users\\minhh\\appdata\\local\\programs\\python\\python310\\lib\\site-packages (from requests>=2.23.0->ultralytics) (1.26.15)\n",
      "Requirement already satisfied: certifi>=2017.4.17 in c:\\users\\minhh\\appdata\\local\\programs\\python\\python310\\lib\\site-packages (from requests>=2.23.0->ultralytics) (2022.12.7)\n",
      "Requirement already satisfied: filelock in c:\\users\\minhh\\appdata\\local\\programs\\python\\python310\\lib\\site-packages (from torch>=1.7.0->ultralytics) (3.11.0)\n",
      "Requirement already satisfied: typing-extensions in c:\\users\\minhh\\appdata\\local\\programs\\python\\python310\\lib\\site-packages (from torch>=1.7.0->ultralytics) (4.5.0)\n",
      "Requirement already satisfied: sympy in c:\\users\\minhh\\appdata\\local\\programs\\python\\python310\\lib\\site-packages (from torch>=1.7.0->ultralytics) (1.11.1)\n",
      "Requirement already satisfied: networkx in c:\\users\\minhh\\appdata\\local\\programs\\python\\python310\\lib\\site-packages (from torch>=1.7.0->ultralytics) (3.1)\n",
      "Requirement already satisfied: jinja2 in c:\\users\\minhh\\appdata\\local\\programs\\python\\python310\\lib\\site-packages (from torch>=1.7.0->ultralytics) (3.1.2)\n",
      "Requirement already satisfied: colorama in c:\\users\\minhh\\appdata\\local\\programs\\python\\python310\\lib\\site-packages (from tqdm>=4.64.0->ultralytics) (0.4.6)\n",
      "Requirement already satisfied: six>=1.5 in c:\\users\\minhh\\appdata\\local\\programs\\python\\python310\\lib\\site-packages (from python-dateutil>=2.7->matplotlib>=3.2.2->ultralytics) (1.16.0)\n",
      "Requirement already satisfied: MarkupSafe>=2.0 in c:\\users\\minhh\\appdata\\local\\programs\\python\\python310\\lib\\site-packages (from jinja2->torch>=1.7.0->ultralytics) (2.1.2)\n",
      "Requirement already satisfied: mpmath>=0.19 in c:\\users\\minhh\\appdata\\local\\programs\\python\\python310\\lib\\site-packages (from sympy->torch>=1.7.0->ultralytics) (1.3.0)\n"
     ]
    }
   ],
   "source": [
    "!pip install ultralytics\n"
   ]
  },
  {
   "cell_type": "code",
   "execution_count": null,
   "metadata": {},
   "outputs": [],
   "source": []
  }
 ],
 "metadata": {
  "kernelspec": {
   "display_name": "Python 3",
   "language": "python",
   "name": "python3"
  },
  "language_info": {
   "codemirror_mode": {
    "name": "ipython",
    "version": 3
   },
   "file_extension": ".py",
   "mimetype": "text/x-python",
   "name": "python",
   "nbconvert_exporter": "python",
   "pygments_lexer": "ipython3",
   "version": "3.10.11"
  },
  "orig_nbformat": 4
 },
 "nbformat": 4,
 "nbformat_minor": 2
}
