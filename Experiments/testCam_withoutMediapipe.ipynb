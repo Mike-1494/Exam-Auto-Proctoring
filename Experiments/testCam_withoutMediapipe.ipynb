{
 "cells": [
  {
   "cell_type": "code",
   "execution_count": 1,
   "metadata": {},
   "outputs": [
    {
     "name": "stderr",
     "output_type": "stream",
     "text": [
      "\n",
      "0: 480x640 1 person, 313.8ms\n",
      "Speed: 7.5ms preprocess, 313.8ms inference, 11.6ms postprocess per image at shape (1, 3, 480, 640)\n"
     ]
    }
   ],
   "source": [
    "from ultralytics import YOLO\n",
    "import cv2\n",
    "import time \n",
    "model = YOLO('yolov8n.pt')\n",
    "cap = cv2.VideoCapture(0)\n",
    "cap.set(3, 640)\n",
    "cap.set(4, 480)\n",
    "\n",
    "# Dự đoán tọa độ chỗ ngồi một lần\n",
    "_, frame = cap.read()\n",
    "img = cv2.cvtColor(frame, cv2.COLOR_BGR2RGB)\n",
    "results = model.predict(img)\n",
    "\n",
    "# Xác định tọa độ chỗ ngồi\n",
    "for r in results:\n",
    "    boxes = r.boxes\n",
    "    for box in boxes:\n",
    "        c = box.cls\n",
    "        if model.names[int(c)] == 'person':\n",
    "            b = box.xyxy[0]  # Lấy tọa độ của hộp giới hạn\n",
    "            top = int(b[0])\n",
    "            left = int(b[1])\n",
    "            bottom = int(b[2])\n",
    "            right = int(b[3])\n",
    "\n",
    "# Lưu lại frame đầu tiên\n",
    "seat_roi = frame[top:bottom, left:right]\n",
    "\n",
    "while True:\n",
    "    # Hiển thị frame\n",
    "    cv2.imshow('Seat Detection', seat_roi)\n",
    "\n",
    "    if cv2.waitKey(1) & 0xFF == ord('q'):\n",
    "        break\n",
    "    time.sleep(5) \n",
    "cap.release()\n",
    "cv2.destroyAllWindows()\n"
   ]
  },
  {
   "cell_type": "code",
   "execution_count": null,
   "metadata": {},
   "outputs": [],
   "source": []
  }
 ],
 "metadata": {
  "kernelspec": {
   "display_name": "Python 3",
   "language": "python",
   "name": "python3"
  },
  "language_info": {
   "codemirror_mode": {
    "name": "ipython",
    "version": 3
   },
   "file_extension": ".py",
   "mimetype": "text/x-python",
   "name": "python",
   "nbconvert_exporter": "python",
   "pygments_lexer": "ipython3",
   "version": "3.9.13"
  },
  "orig_nbformat": 4
 },
 "nbformat": 4,
 "nbformat_minor": 2
}
