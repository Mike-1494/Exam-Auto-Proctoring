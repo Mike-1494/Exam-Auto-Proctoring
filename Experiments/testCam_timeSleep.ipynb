{
 "cells": [
  {
   "cell_type": "code",
   "execution_count": 1,
   "metadata": {},
   "outputs": [
    {
     "name": "stderr",
     "output_type": "stream",
     "text": [
      "\n",
      "0: 480x640 1 person, 1129.6ms\n",
      "Speed: 23.4ms preprocess, 1129.6ms inference, 36.0ms postprocess per image at shape (1, 3, 480, 640)\n",
      "\n",
      "0: 480x640 1 person, 343.8ms\n",
      "Speed: 6.2ms preprocess, 343.8ms inference, 5.6ms postprocess per image at shape (1, 3, 480, 640)\n",
      "\n",
      "0: 480x640 1 person, 370.0ms\n",
      "Speed: 3.5ms preprocess, 370.0ms inference, 7.5ms postprocess per image at shape (1, 3, 480, 640)\n"
     ]
    }
   ],
   "source": [
    "import time\n",
    "from ultralytics import YOLO\n",
    "import cv2\n",
    "from ultralytics.yolo.utils.plotting import Annotator\n",
    "\n",
    "model = YOLO('yolov8n.pt')\n",
    "cap = cv2.VideoCapture(0)\n",
    "cap.set(3, 640)\n",
    "cap.set(4, 480)\n",
    "\n",
    "while True:\n",
    "    _, frame = cap.read()\n",
    "    \n",
    "    img = cv2.cvtColor(frame, cv2.COLOR_BGR2RGB)\n",
    "\n",
    "    results = model.predict(img)\n",
    "\n",
    "    for r in results:\n",
    "        \n",
    "        annotator = Annotator(frame)\n",
    "        \n",
    "        boxes = r.boxes\n",
    "        for box in boxes:\n",
    "            \n",
    "            b = box.xyxy[0]  # get box coordinates in (top, left, bottom, right) format\n",
    "            \n",
    "            top = int(b[0])\n",
    "            left = int(b[1])\n",
    "            bottom = int(b[2])\n",
    "            right = int(b[3])\n",
    "\n",
    "            c = box.cls\n",
    "            if model.names[int(c)] == 'person':\n",
    "                annotator.box_label(b, model.names[int(c)])\n",
    "                # Crop the region of interest\n",
    "                roi = frame[top:bottom, left:right]\n",
    "                # Display the cropped ROI\n",
    "                cv2.imshow('ROI', roi)\n",
    "    frame = annotator.result()  \n",
    "    cv2.imshow('YOLO V8 Detection', frame)     \n",
    "    if cv2.waitKey(1) & 0xFF == ord('q'):\n",
    "        break\n",
    "    \n",
    "    time.sleep(5)  # Tạm dừng mã trong 5 giây\n",
    "    \n",
    "cap.release()\n",
    "cv2.destroyAllWindows()\n"
   ]
  }
 ],
 "metadata": {
  "kernelspec": {
   "display_name": "Python 3",
   "language": "python",
   "name": "python3"
  },
  "language_info": {
   "codemirror_mode": {
    "name": "ipython",
    "version": 3
   },
   "file_extension": ".py",
   "mimetype": "text/x-python",
   "name": "python",
   "nbconvert_exporter": "python",
   "pygments_lexer": "ipython3",
   "version": "3.9.13"
  },
  "orig_nbformat": 4
 },
 "nbformat": 4,
 "nbformat_minor": 2
}
