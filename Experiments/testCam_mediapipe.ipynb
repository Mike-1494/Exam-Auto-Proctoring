{
 "cells": [
  {
   "cell_type": "code",
   "execution_count": null,
   "metadata": {},
   "outputs": [],
   "source": [
    "from ultralytics import YOLO\n",
    "import cv2\n",
    "import time \n",
    "model = YOLO('yolov8n.pt')\n",
    "cap = cv2.VideoCapture(0)\n",
    "cap.set(3, 640)\n",
    "cap.set(4, 480)\n",
    "\n",
    "# Dự đoán tọa độ chỗ ngồi một lần\n",
    "_, frame = cap.read()\n",
    "img = cv2.cvtColor(frame, cv2.COLOR_BGR2RGB)\n",
    "results = model.predict(img)\n",
    "\n",
    "# Xác định tọa độ chỗ ngồi\n",
    "for r in results:\n",
    "    boxes = r.boxes\n",
    "    for box in boxes:\n",
    "        c = box.cls\n",
    "        if model.names[int(c)] == 'person':\n",
    "            b = box.xyxy[0]  # Lấy tọa độ của hộp giới hạn\n",
    "            top = int(b[0])\n",
    "            left = int(b[1])\n",
    "            bottom = int(b[2])\n",
    "            right = int(b[3])\n",
    "\n",
    "# Lưu lại frame đầu tiên\n",
    "seat_roi = frame[top:bottom, left:right]\n",
    "\n",
    "while True:\n",
    "    # Hiển thị frame\n",
    "    cv2.imshow('Seat Detection', seat_roi)\n",
    "\n",
    "    if cv2.waitKey(1) & 0xFF == ord('q'):\n",
    "        break\n",
    "    time.sleep(5) \n",
    "cap.release()\n",
    "cv2.destroyAllWindows()\n"
   ]
  }
 ],
 "metadata": {
  "language_info": {
   "name": "python"
  },
  "orig_nbformat": 4
 },
 "nbformat": 4,
 "nbformat_minor": 2
}
